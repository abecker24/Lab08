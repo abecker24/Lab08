{
  "nbformat": 4,
  "nbformat_minor": 0,
  "metadata": {
    "colab": {
      "provenance": [],
      "collapsed_sections": [],
      "include_colab_link": true
    },
    "kernelspec": {
      "name": "python3",
      "display_name": "Python 3"
    }
  },
  "cells": [
    {
      "cell_type": "markdown",
      "metadata": {
        "id": "view-in-github",
        "colab_type": "text"
      },
      "source": [
        "<a href=\"https://colab.research.google.com/github/abecker24/Lab08/blob/main/Abigail_Becker_ha_01.ipynb\" target=\"_parent\"><img src=\"https://colab.research.google.com/assets/colab-badge.svg\" alt=\"Open In Colab\"/></a>"
      ]
    },
    {
      "cell_type": "code",
      "source": [
        "import numpy as np"
      ],
      "metadata": {
        "id": "sLf1yvDiGgqL"
      },
      "execution_count": 166,
      "outputs": []
    },
    {
      "cell_type": "markdown",
      "source": [
        "# Assignment 1 (due Sep 23rd at 11:59pm)\n",
        "\n",
        "- If you are not familiar with Python or the libraries used in this class, you can get started by following the [Google's Python Class](https://developers.google.com/edu/python/) and this [Python Numpy Tutorial](https://cs231n.github.io/python-numpy-tutorial/).\n",
        "\n",
        "- This assignment is worth **100 points**.  After completing the solutions you will submit a copy of this notebook (`.ipynb`), including all your answers.\n",
        "\n",
        "- Unless otherwise stated, **loops are not allowed**.  The use of [vectorization](https://www.youtube.com/watch?v=qsIrQi0fzbY) and broacasting ([video 1](https://www.youtube.com/watch?v=tKcLaGdvabM), [video 2](https://www.youtube.com/watch?v=oG1t3qlzq14)) is strongly encouraged for this assignment.  You are free to use any of the tensor libraries (`numpy`, `pytorch`, or `tensorflow`).\n",
        "\n",
        ">  **Important**: Make sure all cells are executed before saving/downloading a copy of the notebook you will submit."
      ],
      "metadata": {
        "id": "n-uXkEHsUyO1"
      }
    },
    {
      "cell_type": "markdown",
      "source": [
        "## Question 1 (10 pts)\n",
        "Create a function that takes an integer $d>0$ as input and **returns a matrix** with the following pattern (hints: `np.tril`, `np.eye`).\n",
        "```\n",
        "$ foo(1)\n",
        "array([[10.]])\n",
        "\n",
        "$ foo(3)\n",
        "array([[ 30.,  30.,  30.],\n",
        "       [-30.,  20.,  30.],\n",
        "       [-30., -30.,  10.]])\n",
        "\n",
        "$ foo(5)\n",
        "array([[ 50.,  50.,  50.,  50.,  50.],\n",
        "       [-50.,  40.,  50.,  50.,  50.],\n",
        "       [-50., -50.,  30.,  50.,  50.],\n",
        "       [-50., -50., -50.,  20.,  50.],\n",
        "       [-50., -50., -50., -50.,  10.]])\n",
        "```"
      ],
      "metadata": {
        "id": "GJLqXw_EU6ip"
      }
    },
    {
      "cell_type": "code",
      "source": [
        "# your answer here\n",
        "\n",
        "def function1 (d):\n",
        "  matrix = np.full((d,d), d*10)\n",
        "  negmatrix = np.full((d,d), d*-10)\n",
        "  upper = np.triu(matrix)\n",
        "  lower = np.tril(negmatrix)\n",
        "  diag = np.diag(np.arange(d*10,0,-10))\n",
        "  entire = upper + lower + diag\n",
        "  return entire\n"
      ],
      "metadata": {
        "id": "hLMBr3GvU9D6"
      },
      "execution_count": 167,
      "outputs": []
    },
    {
      "cell_type": "code",
      "source": [
        "function1(1)"
      ],
      "metadata": {
        "colab": {
          "base_uri": "https://localhost:8080/"
        },
        "id": "t0WlXkI3kxMI",
        "outputId": "13816049-1d4b-46cc-bc71-10e453a97e99"
      },
      "execution_count": 168,
      "outputs": [
        {
          "output_type": "execute_result",
          "data": {
            "text/plain": [
              "array([[10]])"
            ]
          },
          "metadata": {},
          "execution_count": 168
        }
      ]
    },
    {
      "cell_type": "code",
      "source": [
        "function1(3)"
      ],
      "metadata": {
        "colab": {
          "base_uri": "https://localhost:8080/"
        },
        "id": "fW8ZemYbkyZ7",
        "outputId": "977b435c-9b9f-4591-899b-b8e7bcc8f884"
      },
      "execution_count": 169,
      "outputs": [
        {
          "output_type": "execute_result",
          "data": {
            "text/plain": [
              "array([[ 30,  30,  30],\n",
              "       [-30,  20,  30],\n",
              "       [-30, -30,  10]])"
            ]
          },
          "metadata": {},
          "execution_count": 169
        }
      ]
    },
    {
      "cell_type": "code",
      "source": [
        "function1(5)"
      ],
      "metadata": {
        "colab": {
          "base_uri": "https://localhost:8080/"
        },
        "id": "iClOkHVMkzyc",
        "outputId": "c4e27929-2614-4a86-8b64-d0f0e1053919"
      },
      "execution_count": 170,
      "outputs": [
        {
          "output_type": "execute_result",
          "data": {
            "text/plain": [
              "array([[ 50,  50,  50,  50,  50],\n",
              "       [-50,  40,  50,  50,  50],\n",
              "       [-50, -50,  30,  50,  50],\n",
              "       [-50, -50, -50,  20,  50],\n",
              "       [-50, -50, -50, -50,  10]])"
            ]
          },
          "metadata": {},
          "execution_count": 170
        }
      ]
    },
    {
      "cell_type": "markdown",
      "source": [
        "## Question 2 (10 pts)\n",
        "Create a function that takes an integer $d>0$ as input and **returns a matrix** with the following pattern (hints: broadcasting).\n",
        "```\n",
        "foo(1)\n",
        "array([[0]])\n",
        "\n",
        "foo(3)\n",
        "array([[0, 1, 2],\n",
        "       [1, 2, 3],\n",
        "       [2, 3, 4]])\n",
        "\n",
        "foo(7)\n",
        "array([[ 0,  1,  2,  3,  4,  5,  6],\n",
        "       [ 1,  2,  3,  4,  5,  6,  7],\n",
        "       [ 2,  3,  4,  5,  6,  7,  8],\n",
        "       [ 3,  4,  5,  6,  7,  8,  9],\n",
        "       [ 4,  5,  6,  7,  8,  9, 10],\n",
        "       [ 5,  6,  7,  8,  9, 10, 11],\n",
        "       [ 6,  7,  8,  9, 10, 11, 12]])\n",
        "```"
      ],
      "metadata": {
        "id": "HD1ynma5keSG"
      }
    },
    {
      "cell_type": "code",
      "source": [
        "# your answer here\n",
        "def function2 (d):\n",
        "  matrix = np.arange(d) + np.arange(0,d,1)[:, np.newaxis]\n",
        "  return matrix"
      ],
      "metadata": {
        "id": "VR3KYHSpkle7"
      },
      "execution_count": 171,
      "outputs": []
    },
    {
      "cell_type": "code",
      "source": [
        "function2 (1)"
      ],
      "metadata": {
        "colab": {
          "base_uri": "https://localhost:8080/"
        },
        "id": "ITbP9STOuk_j",
        "outputId": "7156c7b4-0288-4cda-e275-9c766b982409"
      },
      "execution_count": 172,
      "outputs": [
        {
          "output_type": "execute_result",
          "data": {
            "text/plain": [
              "array([[0]])"
            ]
          },
          "metadata": {},
          "execution_count": 172
        }
      ]
    },
    {
      "cell_type": "code",
      "source": [
        "function2 (3)"
      ],
      "metadata": {
        "colab": {
          "base_uri": "https://localhost:8080/"
        },
        "id": "vXdEbL1GmE0P",
        "outputId": "a5580c44-9004-4cf1-9d82-e71186ec0cb3"
      },
      "execution_count": 173,
      "outputs": [
        {
          "output_type": "execute_result",
          "data": {
            "text/plain": [
              "array([[0, 1, 2],\n",
              "       [1, 2, 3],\n",
              "       [2, 3, 4]])"
            ]
          },
          "metadata": {},
          "execution_count": 173
        }
      ]
    },
    {
      "cell_type": "code",
      "source": [
        "function2 (7)"
      ],
      "metadata": {
        "colab": {
          "base_uri": "https://localhost:8080/"
        },
        "id": "u0QjIjixmKi2",
        "outputId": "39ccd10d-bde2-4f8c-e6a9-0737412adb30"
      },
      "execution_count": 174,
      "outputs": [
        {
          "output_type": "execute_result",
          "data": {
            "text/plain": [
              "array([[ 0,  1,  2,  3,  4,  5,  6],\n",
              "       [ 1,  2,  3,  4,  5,  6,  7],\n",
              "       [ 2,  3,  4,  5,  6,  7,  8],\n",
              "       [ 3,  4,  5,  6,  7,  8,  9],\n",
              "       [ 4,  5,  6,  7,  8,  9, 10],\n",
              "       [ 5,  6,  7,  8,  9, 10, 11],\n",
              "       [ 6,  7,  8,  9, 10, 11, 12]])"
            ]
          },
          "metadata": {},
          "execution_count": 174
        }
      ]
    },
    {
      "cell_type": "markdown",
      "source": [
        "## Question 3 (10 pts)\n",
        "Create a function that takes an integer `d>0` as input and **returns a tensor** of shape `(n,n,n)` with the following pattern (hints: `np.repeat` and `np.reshape`).\n",
        "```\n",
        "foo(1)\n",
        "array([[[0]]])\n",
        "\n",
        "foo(3)\n",
        "array([[[ 0,  0,  0],\n",
        "        [ 0,  0,  0],\n",
        "        [ 0,  0,  0]],\n",
        "\n",
        "       [[10, 10, 10],\n",
        "        [10, 10, 10],\n",
        "        [10, 10, 10]],\n",
        "\n",
        "       [[20, 20, 20],\n",
        "        [20, 20, 20],\n",
        "        [20, 20, 20]]])\n",
        "\n",
        "foo(4)\n",
        "array([[[ 0,  0,  0,  0],\n",
        "        [ 0,  0,  0,  0],\n",
        "        [ 0,  0,  0,  0],\n",
        "        [ 0,  0,  0,  0]],\n",
        "\n",
        "       [[10, 10, 10, 10],\n",
        "        [10, 10, 10, 10],\n",
        "        [10, 10, 10, 10],\n",
        "        [10, 10, 10, 10]],\n",
        "\n",
        "       [[20, 20, 20, 20],\n",
        "        [20, 20, 20, 20],\n",
        "        [20, 20, 20, 20],\n",
        "        [20, 20, 20, 20]],\n",
        "\n",
        "       [[30, 30, 30, 30],\n",
        "        [30, 30, 30, 30],\n",
        "        [30, 30, 30, 30],\n",
        "        [30, 30, 30, 30]]])\n",
        "```"
      ],
      "metadata": {
        "id": "1vFPYU-ZZD7q"
      }
    },
    {
      "cell_type": "code",
      "source": [
        "# your answer here\n",
        "\n",
        "def function3(d):\n",
        "  values = np.arange(0,d*10,10)\n",
        "  output = np.repeat(values,d*d)\n",
        "  full = np.reshape(output, (d,d,d))\n",
        "  return full\n"
      ],
      "metadata": {
        "id": "Jb6mSzyqZe9T"
      },
      "execution_count": 175,
      "outputs": []
    },
    {
      "cell_type": "code",
      "source": [
        "function3 (1)"
      ],
      "metadata": {
        "colab": {
          "base_uri": "https://localhost:8080/"
        },
        "id": "pJd4Ibq_mn1v",
        "outputId": "0bbe9ae6-565a-4f33-fa67-cf8e1e522d28"
      },
      "execution_count": 176,
      "outputs": [
        {
          "output_type": "execute_result",
          "data": {
            "text/plain": [
              "array([[[0]]])"
            ]
          },
          "metadata": {},
          "execution_count": 176
        }
      ]
    },
    {
      "cell_type": "code",
      "source": [
        "function3 (3)"
      ],
      "metadata": {
        "colab": {
          "base_uri": "https://localhost:8080/"
        },
        "id": "weTD5kdYrCzq",
        "outputId": "b0de6ec2-cfce-4a7c-dd8a-474db777b352"
      },
      "execution_count": 177,
      "outputs": [
        {
          "output_type": "execute_result",
          "data": {
            "text/plain": [
              "array([[[ 0,  0,  0],\n",
              "        [ 0,  0,  0],\n",
              "        [ 0,  0,  0]],\n",
              "\n",
              "       [[10, 10, 10],\n",
              "        [10, 10, 10],\n",
              "        [10, 10, 10]],\n",
              "\n",
              "       [[20, 20, 20],\n",
              "        [20, 20, 20],\n",
              "        [20, 20, 20]]])"
            ]
          },
          "metadata": {},
          "execution_count": 177
        }
      ]
    },
    {
      "cell_type": "code",
      "source": [
        "function3 (4)"
      ],
      "metadata": {
        "colab": {
          "base_uri": "https://localhost:8080/"
        },
        "id": "M5hyK3QGrG8c",
        "outputId": "1bdb54e7-761d-4656-d8c6-422d9c0e9889"
      },
      "execution_count": 178,
      "outputs": [
        {
          "output_type": "execute_result",
          "data": {
            "text/plain": [
              "array([[[ 0,  0,  0,  0],\n",
              "        [ 0,  0,  0,  0],\n",
              "        [ 0,  0,  0,  0],\n",
              "        [ 0,  0,  0,  0]],\n",
              "\n",
              "       [[10, 10, 10, 10],\n",
              "        [10, 10, 10, 10],\n",
              "        [10, 10, 10, 10],\n",
              "        [10, 10, 10, 10]],\n",
              "\n",
              "       [[20, 20, 20, 20],\n",
              "        [20, 20, 20, 20],\n",
              "        [20, 20, 20, 20],\n",
              "        [20, 20, 20, 20]],\n",
              "\n",
              "       [[30, 30, 30, 30],\n",
              "        [30, 30, 30, 30],\n",
              "        [30, 30, 30, 30],\n",
              "        [30, 30, 30, 30]]])"
            ]
          },
          "metadata": {},
          "execution_count": 178
        }
      ]
    },
    {
      "cell_type": "markdown",
      "source": [
        "## Question 4 (10 pts)\n",
        "Create a function that takes an integer `n>0` as input and:\n",
        "- generates 2 square matrices `A` and `B` of dimension `n x n` filled with random values from a unit gaussian distribution\n",
        "- computes the matrix multiplication $A\\cdot B$, and records the time it takes to perform the multiplication\n",
        "- **returns** the resulting matrix and the time spent.\n",
        "> hit: use `time.perf_counter` and `random.normal`."
      ],
      "metadata": {
        "id": "WCLQtfLPlynG"
      }
    },
    {
      "cell_type": "code",
      "source": [
        "from time import perf_counter"
      ],
      "metadata": {
        "id": "J83gh5AgE3W1"
      },
      "execution_count": 179,
      "outputs": []
    },
    {
      "cell_type": "code",
      "source": [
        "# your answer here\n",
        "def function4 (n):\n",
        "  matrixa = np.random.normal(size = (n,n))\n",
        "  matrixb = np.random.normal(size = (n,n))\n",
        "  start = perf_counter()\n",
        "  both = matrixa*matrixb\n",
        "  stop = perf_counter()\n",
        "  time = stop - start\n",
        "  return both, time"
      ],
      "metadata": {
        "id": "W8JARpZDm5I4"
      },
      "execution_count": 180,
      "outputs": []
    },
    {
      "cell_type": "code",
      "source": [
        "function4(2)"
      ],
      "metadata": {
        "colab": {
          "base_uri": "https://localhost:8080/"
        },
        "id": "ZGBgRuTIF3AZ",
        "outputId": "9649a73b-c5a9-47f3-809c-f1b21f28fee4"
      },
      "execution_count": 181,
      "outputs": [
        {
          "output_type": "execute_result",
          "data": {
            "text/plain": [
              "(array([[-0.24898326,  0.90080262],\n",
              "        [ 1.1812389 ,  0.60827679]]), 7.226999514386989e-06)"
            ]
          },
          "metadata": {},
          "execution_count": 181
        }
      ]
    },
    {
      "cell_type": "code",
      "source": [
        "function4(7)"
      ],
      "metadata": {
        "colab": {
          "base_uri": "https://localhost:8080/"
        },
        "id": "XTskYzm4Bxv3",
        "outputId": "c8ad6322-0206-4f3a-8673-c9057cf2d579"
      },
      "execution_count": 182,
      "outputs": [
        {
          "output_type": "execute_result",
          "data": {
            "text/plain": [
              "(array([[ 5.24280533e-01, -1.02876925e+00,  1.87044627e+00,\n",
              "          1.17308410e+00,  7.41653588e-01, -5.21268231e-01,\n",
              "         -1.71217717e-02],\n",
              "        [-4.26399881e-02, -6.24461210e-02, -8.96056801e-01,\n",
              "         -7.33007378e-01, -5.22382844e-01, -1.20243304e+00,\n",
              "         -2.93843766e-01],\n",
              "        [-8.02609515e-01,  6.26055151e-03,  2.60986796e-02,\n",
              "         -2.44036869e-03, -1.41199744e-01, -4.79814290e-01,\n",
              "          5.94000936e-01],\n",
              "        [-2.61187084e+00,  4.91220119e-01,  1.55358258e-02,\n",
              "         -6.71967639e-02,  1.43980401e-01, -1.51992896e-01,\n",
              "          3.78441807e-02],\n",
              "        [-2.29187528e-01, -8.22905341e-01,  2.97544935e-01,\n",
              "         -8.46613874e-04,  2.30161198e-01, -8.93119378e-01,\n",
              "          5.88188746e-01],\n",
              "        [-2.46993111e+00, -2.29588110e+00,  9.03130622e-02,\n",
              "         -1.85892569e+00,  2.71650083e-01,  1.22541503e-01,\n",
              "          6.16162143e-01],\n",
              "        [ 2.35380414e+00, -2.44000966e-01,  1.63499633e-01,\n",
              "          1.80349934e-01,  1.88877920e+00, -1.01448949e-02,\n",
              "         -1.46225598e-02]]), 7.168999218265526e-06)"
            ]
          },
          "metadata": {},
          "execution_count": 182
        }
      ]
    },
    {
      "cell_type": "markdown",
      "source": [
        "## Question 5 (15 pts)\n",
        "Test your function from Exercise 4 with the following values of `n`:\n",
        "```\n",
        "np.linspace(10, 2**12, 2**5, dtype=int)\n",
        "```\n",
        "Use the returned values to create a plot of how the time varies with respect to `n`."
      ],
      "metadata": {
        "id": "ejWkthfFm7eo"
      }
    },
    {
      "cell_type": "code",
      "source": [
        "import matplotlib.pyplot as pyplot"
      ],
      "metadata": {
        "id": "PGN9bwV1HuUL"
      },
      "execution_count": 183,
      "outputs": []
    },
    {
      "cell_type": "code",
      "source": [
        "# your answer here\n",
        "n = np.linspace(10, 2**12, 2**5, dtype=int)\n",
        "data = []\n",
        "\n",
        "for x in n:\n",
        "  both, time = function4(x)\n",
        "  data.append(time)\n"
      ],
      "metadata": {
        "id": "PDJ8HqYJnSwc"
      },
      "execution_count": 184,
      "outputs": []
    },
    {
      "cell_type": "code",
      "source": [
        "pyplot.plot(n, data)\n",
        "pyplot.xlabel(\"Values of N\")\n",
        "pyplot.ylabel(\"Time in Seconds\")\n",
        "pyplot.title(\"Time with Respect to N\")"
      ],
      "metadata": {
        "colab": {
          "base_uri": "https://localhost:8080/",
          "height": 313
        },
        "id": "Gl6HFPJaIZaA",
        "outputId": "73938ed4-7752-42fe-f40d-a685896e5ac0"
      },
      "execution_count": 185,
      "outputs": [
        {
          "output_type": "execute_result",
          "data": {
            "text/plain": [
              "Text(0.5, 1.0, 'Time with Respect to N')"
            ]
          },
          "metadata": {},
          "execution_count": 185
        },
        {
          "output_type": "display_data",
          "data": {
            "text/plain": [
              "<Figure size 432x288 with 1 Axes>"
            ],
            "image/png": "[encoded data removed]"
          },
          "metadata": {
            "needs_background": "light"
          }
        }
      ]
    },
    {
      "cell_type": "markdown",
      "source": [
        "## Question 6 (10 pts)\n",
        "Create a function that takes two input arrays `x` and `y` and **returns** the following matrix:\n",
        "\n",
        "$$\n",
        "\\vec{x} \\otimes \\vec{y} =\n",
        "\\begin{bmatrix}\n",
        "x_1 y_1 & x_1 y_2 & … & x_1 y_n\\\\\n",
        "x_2 y_1 & x_2 y_2 & … & x_2 y_n\\\\\n",
        "⋮ & ⋮ & ⋱ & ⋮ \\\\\n",
        "x_m y_1 & x_m y_2 & … & x_m y_n\n",
        "\\end{bmatrix}\n",
        "$$"
      ],
      "metadata": {
        "id": "i0yD-5JEEY7J"
      }
    },
    {
      "cell_type": "code",
      "source": [
        "# your answer here\n",
        "def function6 (x,y):\n",
        "  array = np.outer(x,y)\n",
        "  return array"
      ],
      "metadata": {
        "id": "f6BEqwJi2JAk"
      },
      "execution_count": 186,
      "outputs": []
    },
    {
      "cell_type": "code",
      "source": [
        "# for the following arrays ...\n",
        "np.random.seed(100)\n",
        "x = np.random.randint(-100, 100, size=10000)\n",
        "y = np.random.randint(-100, 100, size=10000)\n",
        "\n",
        "# ... the output should be:\n",
        "# array([[-6900., -2208., -5612., ...,   920.,  -736.,  1472.],\n",
        "#       [-5700., -1824., -4636., ...,   760.,  -608.,  1216.],\n",
        "#       [-2475.,  -792., -2013., ...,   330.,  -264.,   528.],\n",
        "#       ...,\n",
        "#       [-6450., -2064., -5246., ...,   860.,  -688.,  1376.],\n",
        "#       [ 4500.,  1440.,  3660., ...,  -600.,   480.,  -960.],\n",
        "#       [ 3600.,  1152.,  2928., ...,  -480.,   384.,  -768.]])"
      ],
      "metadata": {
        "id": "U0owgHM6FLbi"
      },
      "execution_count": 187,
      "outputs": []
    },
    {
      "cell_type": "code",
      "source": [
        "function6 (x,y)"
      ],
      "metadata": {
        "colab": {
          "base_uri": "https://localhost:8080/"
        },
        "id": "K7FP9kwvobih",
        "outputId": "de161422-95d2-4db6-a5f1-3ddbff6de328"
      },
      "execution_count": 188,
      "outputs": [
        {
          "output_type": "execute_result",
          "data": {
            "text/plain": [
              "array([[-6900, -2208, -5612, ...,   920,  -736,  1472],\n",
              "       [-5700, -1824, -4636, ...,   760,  -608,  1216],\n",
              "       [-2475,  -792, -2013, ...,   330,  -264,   528],\n",
              "       ...,\n",
              "       [-6450, -2064, -5246, ...,   860,  -688,  1376],\n",
              "       [ 4500,  1440,  3660, ...,  -600,   480,  -960],\n",
              "       [ 3600,  1152,  2928, ...,  -480,   384,  -768]])"
            ]
          },
          "metadata": {},
          "execution_count": 188
        }
      ]
    },
    {
      "cell_type": "markdown",
      "source": [
        "## Question 7 (15 pts)\n",
        "Create a function that takes two input arrays `x` and `y` and **returns** the value resulting from:\n",
        "$$\n",
        "f(\\vec{x}, \\vec{y}) = \n",
        "{\n",
        "\\begin{bmatrix}\n",
        "1\\\\\n",
        "1\\\\\n",
        "⋮\\\\\n",
        "1\n",
        "\\end{bmatrix}^{\\;T}\n",
        "%\n",
        "\\begin{bmatrix}\n",
        "x_1 y_1 & x_1 y_2 & … & x_1 y_n\\\\\n",
        "x_2 y_1 & x_2 y_2 & … & x_2 y_n\\\\\n",
        "⋮ & ⋮ & ⋱ & ⋮ \\\\\n",
        "x_m y_1 & x_m y_2 & … & x_m y_n\n",
        "\\end{bmatrix}\n",
        "%\n",
        "\\begin{bmatrix}\n",
        "1\\\\\n",
        "1\\\\\n",
        "⋮\\\\\n",
        "1\n",
        "\\end{bmatrix}\n",
        "} = \n",
        "\\displaystyle\\sum_{i=1}^{n} \\displaystyle\\sum_{j=1}^{n} x_i \\cdot y_j\n",
        "$$"
      ],
      "metadata": {
        "id": "FX_fDkPuFjt_"
      }
    },
    {
      "cell_type": "code",
      "source": [
        "# your answer here\n",
        "def function7(x,y):\n",
        "  array = np.outer(x,y)\n",
        "  sum = np.sum(array)\n",
        "  return sum"
      ],
      "metadata": {
        "id": "9jP1lqt_Fq2G"
      },
      "execution_count": 189,
      "outputs": []
    },
    {
      "cell_type": "code",
      "source": [
        "# for the following arrays ...\n",
        "np.random.seed(100)\n",
        "x = np.random.randint(-10, 10, size=5000)\n",
        "y = np.random.randint(-10, 10, size=5000)\n",
        "\n",
        "# ... the output should be:\n",
        "# 7842780"
      ],
      "metadata": {
        "id": "YIY2W_LUGI6Q"
      },
      "execution_count": 190,
      "outputs": []
    },
    {
      "cell_type": "code",
      "source": [
        "function7(x,y)"
      ],
      "metadata": {
        "colab": {
          "base_uri": "https://localhost:8080/"
        },
        "id": "qi4qzUip5Ptf",
        "outputId": "4d78c43d-a3cd-49ca-d213-2706ba90731d"
      },
      "execution_count": 191,
      "outputs": [
        {
          "output_type": "execute_result",
          "data": {
            "text/plain": [
              "7842780"
            ]
          },
          "metadata": {},
          "execution_count": 191
        }
      ]
    },
    {
      "cell_type": "markdown",
      "source": [
        "## Question 8 (10 pts)\n",
        "Create a function that takes an input array `x` with `n` elements and **returns** the following matrix:\n",
        "\n",
        "$$\n",
        "A =\n",
        "\\begin{bmatrix}\n",
        "1 & x_1 & x_1^2 & x_1^3 & … & x_1^{n-1}\\\\\n",
        "1 & x_2 & x_2^2 & x_2^3 & … & x_2^{n-1}\\\\\n",
        "⋮ & ⋮ & ⋮ & ⋮ & ⋱ & ⋮ \\\\\n",
        "1 & x_n & x_n^2 & x_n^3 & … & x_n^{n-1}\\\\\n",
        "\\end{bmatrix}\n",
        "$$"
      ],
      "metadata": {
        "id": "Zyxfvm7FK2M6"
      }
    },
    {
      "cell_type": "code",
      "source": [
        "# your answer here\n",
        "def function8(x):\n",
        "  a = np.arange(0, len(x), 1, dtype=\"float\")\n",
        "  b = x.repeat(len(x)).reshape(len(x),len(x))\n",
        "  power = np.power(b,a)\n",
        "  return power"
      ],
      "metadata": {
        "id": "5FjM0cCyLzvk"
      },
      "execution_count": 192,
      "outputs": []
    },
    {
      "cell_type": "code",
      "source": [
        "# for the following array ...\n",
        "np.random.seed(100)\n",
        "x = np.random.randint(1, 10, size=40)\n",
        "\n",
        "# ... the output should be:\n",
        "# array([[1.00000000e+00, 9.00000000e+00, 8.10000000e+01, ...,\n",
        "#         2.02755596e+35, 1.82480036e+36, 1.64232033e+37],\n",
        "#        [1.00000000e+00, 9.00000000e+00, 8.10000000e+01, ...,\n",
        "#         2.02755596e+35, 1.82480036e+36, 1.64232033e+37],\n",
        "#        [1.00000000e+00, 4.00000000e+00, 1.60000000e+01, ...,\n",
        "#         1.88894659e+22, 7.55578637e+22, 3.02231455e+23],\n",
        "#        ...,\n",
        "#        [1.00000000e+00, 2.00000000e+00, 4.00000000e+00, ...,\n",
        "#         1.37438953e+11, 2.74877907e+11, 5.49755814e+11],\n",
        "#        [1.00000000e+00, 1.00000000e+00, 1.00000000e+00, ...,\n",
        "#         1.00000000e+00, 1.00000000e+00, 1.00000000e+00],\n",
        "#        [1.00000000e+00, 8.00000000e+00, 6.40000000e+01, ...,\n",
        "#         2.59614843e+33, 2.07691874e+34, 1.66153499e+35]])"
      ],
      "metadata": {
        "id": "awe3nlOXLzfc"
      },
      "execution_count": 193,
      "outputs": []
    },
    {
      "cell_type": "code",
      "source": [
        "# testing to make sure function works\n",
        "function8(x)"
      ],
      "metadata": {
        "colab": {
          "base_uri": "https://localhost:8080/"
        },
        "id": "ojQScI4uDulU",
        "outputId": "d3b03ad1-3a11-4d7e-d5b6-d7cded087965"
      },
      "execution_count": 194,
      "outputs": [
        {
          "output_type": "execute_result",
          "data": {
            "text/plain": [
              "array([[1.00000000e+00, 9.00000000e+00, 8.10000000e+01, ...,\n",
              "        2.02755596e+35, 1.82480036e+36, 1.64232033e+37],\n",
              "       [1.00000000e+00, 9.00000000e+00, 8.10000000e+01, ...,\n",
              "        2.02755596e+35, 1.82480036e+36, 1.64232033e+37],\n",
              "       [1.00000000e+00, 4.00000000e+00, 1.60000000e+01, ...,\n",
              "        1.88894659e+22, 7.55578637e+22, 3.02231455e+23],\n",
              "       ...,\n",
              "       [1.00000000e+00, 2.00000000e+00, 4.00000000e+00, ...,\n",
              "        1.37438953e+11, 2.74877907e+11, 5.49755814e+11],\n",
              "       [1.00000000e+00, 1.00000000e+00, 1.00000000e+00, ...,\n",
              "        1.00000000e+00, 1.00000000e+00, 1.00000000e+00],\n",
              "       [1.00000000e+00, 8.00000000e+00, 6.40000000e+01, ...,\n",
              "        2.59614843e+33, 2.07691874e+34, 1.66153499e+35]])"
            ]
          },
          "metadata": {},
          "execution_count": 194
        }
      ]
    },
    {
      "cell_type": "markdown",
      "source": [
        "## Question 9 (10 pts)\n",
        "Create a function that takes a matrix `X` as input and **returns** its *row-normalized* version, i.e., the sum of elements in each row must be equal to 1.  Assume elements in `X` are non-negative and rows contain at least one non-zero element."
      ],
      "metadata": {
        "id": "nJfEt71-IX5M"
      }
    },
    {
      "cell_type": "code",
      "source": [
        "# your answer here\n",
        "def function9(x):\n",
        "  sum = np.sum(x, axis=1).reshape(len(x),1)\n",
        "  norm = x/sum\n",
        "  print(norm)"
      ],
      "metadata": {
        "id": "rHSAqGtoGUSm"
      },
      "execution_count": 195,
      "outputs": []
    },
    {
      "cell_type": "code",
      "source": [
        "array = np.random.randint(0,10,size=(5,3))\n",
        "function9(array)"
      ],
      "metadata": {
        "id": "T4n5AA_YJyXR",
        "colab": {
          "base_uri": "https://localhost:8080/"
        },
        "outputId": "8eed12b0-06cc-4fb6-a072-f1823e9320f5"
      },
      "execution_count": 196,
      "outputs": [
        {
          "output_type": "stream",
          "name": "stdout",
          "text": [
            "[[0.75       0.25       0.        ]\n",
            " [0.53333333 0.13333333 0.33333333]\n",
            " [0.1        0.8        0.1       ]\n",
            " [0.45454545 0.36363636 0.18181818]\n",
            " [0.5        0.1875     0.3125    ]]\n"
          ]
        }
      ]
    }
  ]
}